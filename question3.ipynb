{
 "cells": [
  {
   "cell_type": "markdown",
   "id": "18a4d5e9",
   "metadata": {},
   "source": [
    "# Q3: SQUARE ELEMENTS IN A LIST\n"
   ]
  },
  {
   "cell_type": "code",
   "execution_count": 1,
   "id": "34f803de",
   "metadata": {},
   "outputs": [
    {
     "name": "stdout",
     "output_type": "stream",
     "text": [
      "[16, 25, 4, 81]\n"
     ]
    }
   ],
   "source": [
    "sample_list=[4,5,2,9]\n",
    "\n",
    "def square(a):\n",
    "    return a**2\n",
    "\n",
    "result=map(square,sample_list)\n",
    "print(list(result))"
   ]
  },
  {
   "cell_type": "code",
   "execution_count": null,
   "id": "5a1ffa8f",
   "metadata": {},
   "outputs": [],
   "source": []
  }
 ],
 "metadata": {
  "kernelspec": {
   "display_name": "Python 3 (ipykernel)",
   "language": "python",
   "name": "python3"
  },
  "language_info": {
   "codemirror_mode": {
    "name": "ipython",
    "version": 3
   },
   "file_extension": ".py",
   "mimetype": "text/x-python",
   "name": "python",
   "nbconvert_exporter": "python",
   "pygments_lexer": "ipython3",
   "version": "3.10.2"
  }
 },
 "nbformat": 4,
 "nbformat_minor": 5
}
